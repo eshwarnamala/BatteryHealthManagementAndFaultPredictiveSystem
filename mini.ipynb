{
  "cells": [
    {
      "cell_type": "markdown",
      "metadata": {},
      "source": [
        "**IMOPRTING LIBRARIES**"
      ]
    },
    {
      "cell_type": "code",
      "execution_count": 1,
      "metadata": {},
      "outputs": [],
      "source": [
        "import numpy as np\n",
        "import matplotlib.pyplot as plt\n",
        "import pandas as pd\n",
        "from sklearn.tree import DecisionTreeRegressor\n",
        "from sklearn.preprocessing import OneHotEncoder\n",
        "from sklearn.compose import make_column_transformer\n",
        "from sklearn.pipeline import make_pipeline\n",
        "from sklearn.metrics import r2_score\n",
        "from sklearn.linear_model import LinearRegression\n",
        "from sklearn.preprocessing import LabelEncoder\n",
        "from sklearn.model_selection import GridSearchCV"
      ]
    },
    {
      "cell_type": "markdown",
      "metadata": {},
      "source": [
        "**READING DATA USING PANDAS**"
      ]
    },
    {
      "cell_type": "code",
      "execution_count": 2,
      "metadata": {
        "id": "x1xyyswabzDo"
      },
      "outputs": [
        {
          "data": {
            "text/html": [
              "<div>\n",
              "<style scoped>\n",
              "    .dataframe tbody tr th:only-of-type {\n",
              "        vertical-align: middle;\n",
              "    }\n",
              "\n",
              "    .dataframe tbody tr th {\n",
              "        vertical-align: top;\n",
              "    }\n",
              "\n",
              "    .dataframe thead th {\n",
              "        text-align: right;\n",
              "    }\n",
              "</style>\n",
              "<table border=\"1\" class=\"dataframe\">\n",
              "  <thead>\n",
              "    <tr style=\"text-align: right;\">\n",
              "      <th></th>\n",
              "      <th>Unnamed: 0</th>\n",
              "      <th>volt</th>\n",
              "      <th>current</th>\n",
              "      <th>soc</th>\n",
              "      <th>max_single_volt</th>\n",
              "      <th>min_single_volt</th>\n",
              "      <th>max_temp</th>\n",
              "      <th>min_temp</th>\n",
              "      <th>timestamp</th>\n",
              "      <th>car</th>\n",
              "      <th>label</th>\n",
              "      <th>charge_segment</th>\n",
              "      <th>mileage</th>\n",
              "    </tr>\n",
              "  </thead>\n",
              "  <tbody>\n",
              "    <tr>\n",
              "      <th>0</th>\n",
              "      <td>0</td>\n",
              "      <td>38.91657</td>\n",
              "      <td>-8.07</td>\n",
              "      <td>35.0</td>\n",
              "      <td>3.6435</td>\n",
              "      <td>3.6286</td>\n",
              "      <td>28.0</td>\n",
              "      <td>24.0</td>\n",
              "      <td>1.0</td>\n",
              "      <td>471</td>\n",
              "      <td>0</td>\n",
              "      <td>1</td>\n",
              "      <td>19974.6498</td>\n",
              "    </tr>\n",
              "    <tr>\n",
              "      <th>1</th>\n",
              "      <td>1</td>\n",
              "      <td>38.95108</td>\n",
              "      <td>-14.96</td>\n",
              "      <td>35.0</td>\n",
              "      <td>3.6481</td>\n",
              "      <td>3.6340</td>\n",
              "      <td>28.0</td>\n",
              "      <td>24.0</td>\n",
              "      <td>11.0</td>\n",
              "      <td>471</td>\n",
              "      <td>0</td>\n",
              "      <td>1</td>\n",
              "      <td>19974.6498</td>\n",
              "    </tr>\n",
              "    <tr>\n",
              "      <th>2</th>\n",
              "      <td>2</td>\n",
              "      <td>38.97250</td>\n",
              "      <td>-14.64</td>\n",
              "      <td>35.0</td>\n",
              "      <td>3.6491</td>\n",
              "      <td>3.6341</td>\n",
              "      <td>27.9</td>\n",
              "      <td>24.0</td>\n",
              "      <td>21.0</td>\n",
              "      <td>471</td>\n",
              "      <td>0</td>\n",
              "      <td>1</td>\n",
              "      <td>19974.6498</td>\n",
              "    </tr>\n",
              "    <tr>\n",
              "      <th>3</th>\n",
              "      <td>3</td>\n",
              "      <td>38.97250</td>\n",
              "      <td>-14.99</td>\n",
              "      <td>35.0</td>\n",
              "      <td>3.6501</td>\n",
              "      <td>3.6351</td>\n",
              "      <td>27.0</td>\n",
              "      <td>24.0</td>\n",
              "      <td>31.0</td>\n",
              "      <td>471</td>\n",
              "      <td>0</td>\n",
              "      <td>1</td>\n",
              "      <td>19974.6498</td>\n",
              "    </tr>\n",
              "    <tr>\n",
              "      <th>4</th>\n",
              "      <td>4</td>\n",
              "      <td>38.97607</td>\n",
              "      <td>-14.90</td>\n",
              "      <td>35.0</td>\n",
              "      <td>3.6510</td>\n",
              "      <td>3.6361</td>\n",
              "      <td>27.0</td>\n",
              "      <td>24.0</td>\n",
              "      <td>41.0</td>\n",
              "      <td>471</td>\n",
              "      <td>0</td>\n",
              "      <td>1</td>\n",
              "      <td>19974.6498</td>\n",
              "    </tr>\n",
              "  </tbody>\n",
              "</table>\n",
              "</div>"
            ],
            "text/plain": [
              "   Unnamed: 0      volt  current   soc  max_single_volt  min_single_volt  \\\n",
              "0           0  38.91657    -8.07  35.0           3.6435           3.6286   \n",
              "1           1  38.95108   -14.96  35.0           3.6481           3.6340   \n",
              "2           2  38.97250   -14.64  35.0           3.6491           3.6341   \n",
              "3           3  38.97250   -14.99  35.0           3.6501           3.6351   \n",
              "4           4  38.97607   -14.90  35.0           3.6510           3.6361   \n",
              "\n",
              "   max_temp  min_temp  timestamp  car  label  charge_segment     mileage  \n",
              "0      28.0      24.0        1.0  471      0               1  19974.6498  \n",
              "1      28.0      24.0       11.0  471      0               1  19974.6498  \n",
              "2      27.9      24.0       21.0  471      0               1  19974.6498  \n",
              "3      27.0      24.0       31.0  471      0               1  19974.6498  \n",
              "4      27.0      24.0       41.0  471      0               1  19974.6498  "
            ]
          },
          "execution_count": 2,
          "metadata": {},
          "output_type": "execute_result"
        }
      ],
      "source": [
        "data = pd.read_csv(\"./dataset.csv\")\n",
        "data.head()"
      ]
    },
    {
      "cell_type": "code",
      "execution_count": null,
      "metadata": {
        "colab": {
          "base_uri": "https://localhost:8080/"
        },
        "id": "LoiUYBtyZxfw",
        "outputId": "31e0163f-2d7b-462d-834b-65e3fc6ff445"
      },
      "outputs": [],
      "source": []
    },
    {
      "cell_type": "markdown",
      "metadata": {},
      "source": [
        "**ENCODING DATA**"
      ]
    },
    {
      "cell_type": "code",
      "execution_count": 3,
      "metadata": {
        "id": "uin087ONcNHW"
      },
      "outputs": [],
      "source": [
        "# ohe = OneHotEncoder()\n",
        "# ohe.fit(data[['product']])\n",
        "# ct=make_column_transformer((OneHotEncoder(),[0]),remainder='passthrough')"
      ]
    },
    {
      "cell_type": "markdown",
      "metadata": {},
      "source": [
        "**DENPENDENT AND INDIPENDENT VARIABLES**"
      ]
    },
    {
      "cell_type": "code",
      "execution_count": 4,
      "metadata": {
        "id": "xo_6ixhNWbpK"
      },
      "outputs": [],
      "source": [
        "x = data.iloc[:,[1,2,6]].values\n",
        "y = data.iloc[:, [10]].values"
      ]
    },
    {
      "cell_type": "code",
      "execution_count": 5,
      "metadata": {},
      "outputs": [
        {
          "data": {
            "text/plain": [
              "array([[ 38.91657,  -8.07   ,  28.     ],\n",
              "       [ 38.95108, -14.96   ,  28.     ],\n",
              "       [ 38.9725 , -14.64   ,  27.9    ],\n",
              "       ...,\n",
              "       [ 41.9951 , -17.59   ,  27.     ],\n",
              "       [ 41.9951 , -17.51   ,  27.     ],\n",
              "       [ 41.99748, -17.6    ,  27.     ]])"
            ]
          },
          "execution_count": 5,
          "metadata": {},
          "output_type": "execute_result"
        }
      ],
      "source": [
        "x"
      ]
    },
    {
      "cell_type": "code",
      "execution_count": 6,
      "metadata": {},
      "outputs": [
        {
          "data": {
            "text/plain": [
              "array([[0],\n",
              "       [0],\n",
              "       [0],\n",
              "       ...,\n",
              "       [0],\n",
              "       [0],\n",
              "       [0]], dtype=int64)"
            ]
          },
          "execution_count": 6,
          "metadata": {},
          "output_type": "execute_result"
        }
      ],
      "source": [
        "y\n"
      ]
    },
    {
      "cell_type": "code",
      "execution_count": null,
      "metadata": {},
      "outputs": [],
      "source": []
    },
    {
      "cell_type": "code",
      "execution_count": 7,
      "metadata": {
        "id": "3-ov31wXIJup"
      },
      "outputs": [],
      "source": [
        "from sklearn.preprocessing import StandardScaler\n",
        "sc = StandardScaler()"
      ]
    },
    {
      "cell_type": "markdown",
      "metadata": {},
      "source": [
        "**DIVIDING THE DATA INTO TRAINING AND TESTING SET**"
      ]
    },
    {
      "cell_type": "code",
      "execution_count": 8,
      "metadata": {
        "id": "CXvJXOPhc34E"
      },
      "outputs": [],
      "source": [
        "from sklearn.model_selection import train_test_split\n",
        "x_train, x_test, y_train, y_test = train_test_split(x, y, test_size = 0.3, random_state = 0)"
      ]
    },
    {
      "cell_type": "code",
      "execution_count": 9,
      "metadata": {
        "id": "1GChiDgvbnel"
      },
      "outputs": [
        {
          "data": {
            "text/plain": [
              "array([[  40.20058, -116.2    ,   28.     ],\n",
              "       [  42.6139 , -103.85   ,   33.     ],\n",
              "       [  44.8035 ,  -13.7    ,   28.     ],\n",
              "       ...,\n",
              "       [  42.7924 ,  -17.29   ,   27.     ],\n",
              "       [  43.42667,  -77.59   ,   34.     ],\n",
              "       [  44.23468,  -40.59   ,   31.     ]])"
            ]
          },
          "execution_count": 9,
          "metadata": {},
          "output_type": "execute_result"
        }
      ],
      "source": [
        "x_train"
      ]
    },
    {
      "cell_type": "code",
      "execution_count": 10,
      "metadata": {
        "id": "36Kgz_vDs7aw"
      },
      "outputs": [],
      "source": [
        "import warnings\n",
        "warnings.simplefilter(action='ignore', category=FutureWarning)\n",
        "warnings.simplefilter(action='ignore', category=UserWarning)"
      ]
    },
    {
      "cell_type": "code",
      "execution_count": 11,
      "metadata": {},
      "outputs": [],
      "source": [
        "from sklearn.metrics import accuracy_score, precision_score, recall_score, f1_score, confusion_matrix, roc_auc_score, precision_recall_curve\n",
        "import matplotlib.pyplot as plt"
      ]
    },
    {
      "cell_type": "markdown",
      "metadata": {},
      "source": [
        "# Models"
      ]
    },
    {
      "cell_type": "code",
      "execution_count": 12,
      "metadata": {},
      "outputs": [],
      "source": [
        "from sklearn.naive_bayes import GaussianNB\n",
        "gnb=GaussianNB()\n",
        "gnb.fit(x_train,y_train)\n",
        "y_pred=gnb.predict(x_test)\n"
      ]
    },
    {
      "cell_type": "code",
      "execution_count": 13,
      "metadata": {},
      "outputs": [
        {
          "data": {
            "text/plain": [
              "array([10, 10, 10, ...,  0, 10, 10], dtype=int64)"
            ]
          },
          "execution_count": 13,
          "metadata": {},
          "output_type": "execute_result"
        }
      ],
      "source": [
        "y_pred"
      ]
    },
    {
      "cell_type": "code",
      "execution_count": 14,
      "metadata": {},
      "outputs": [],
      "source": [
        "from sklearn.metrics import classification_report\n",
        "a=classification_report(y_test, y_pred)"
      ]
    },
    {
      "cell_type": "code",
      "execution_count": 15,
      "metadata": {},
      "outputs": [
        {
          "name": "stdout",
          "output_type": "stream",
          "text": [
            "              precision    recall  f1-score   support\n",
            "\n",
            "           0       0.76      0.63      0.68      5332\n",
            "          10       0.65      0.77      0.71      4799\n",
            "\n",
            "    accuracy                           0.70     10131\n",
            "   macro avg       0.70      0.70      0.70     10131\n",
            "weighted avg       0.71      0.70      0.70     10131\n",
            "\n"
          ]
        }
      ],
      "source": [
        "print(a)"
      ]
    },
    {
      "cell_type": "code",
      "execution_count": 16,
      "metadata": {},
      "outputs": [
        {
          "data": {
            "text/plain": [
              "{'priors': None, 'var_smoothing': 1e-09}"
            ]
          },
          "execution_count": 16,
          "metadata": {},
          "output_type": "execute_result"
        }
      ],
      "source": [
        "gnb.get_params()"
      ]
    },
    {
      "cell_type": "code",
      "execution_count": 17,
      "metadata": {},
      "outputs": [
        {
          "data": {
            "text/plain": [
              "0.6966735761524036"
            ]
          },
          "execution_count": 17,
          "metadata": {},
          "output_type": "execute_result"
        }
      ],
      "source": [
        "from sklearn.metrics import accuracy_score\n",
        "accuracy_score(y_test,y_pred)"
      ]
    },
    {
      "cell_type": "code",
      "execution_count": 18,
      "metadata": {},
      "outputs": [],
      "source": [
        "accuracy = accuracy_score(y_test, y_pred)\n",
        "# precision = precision_score(y_test, y_pred_kn)\n",
        "precision = precision_score(y_test, y_pred, pos_label=10)\n",
        "recall = recall_score(y_test, y_pred, pos_label=10)\n",
        "f1 = f1_score(y_test, y_pred, pos_label=10)\n",
        "conf_matrix = confusion_matrix(y_test, y_pred)\n",
        "roc_score = roc_auc_score(y_test, y_pred)\n",
        "precision, recall, _ = precision_recall_curve(y_test, y_pred, pos_label=10)"
      ]
    },
    {
      "cell_type": "code",
      "execution_count": 19,
      "metadata": {},
      "outputs": [
        {
          "name": "stdout",
          "output_type": "stream",
          "text": [
            "Accuracy: 0.6966735761524036\n",
            "Precision: [0.4736946  0.65108543 1.        ]\n",
            "Recall: [1.         0.77495312 0.        ]\n",
            "F1 Score: 0.7076396156407573\n",
            "Confusion Matrix:\n",
            " [[3339 1993]\n",
            " [1080 3719]]\n",
            "ROC Score: 0.7005860849980156\n"
          ]
        }
      ],
      "source": [
        "print(\"Accuracy:\", accuracy)\n",
        "print(\"Precision:\", precision)\n",
        "print(\"Recall:\", recall)\n",
        "print(\"F1 Score:\", f1)\n",
        "print(\"Confusion Matrix:\\n\", conf_matrix)\n",
        "print(\"ROC Score:\", roc_score)"
      ]
    },
    {
      "cell_type": "code",
      "execution_count": 20,
      "metadata": {},
      "outputs": [
        {
          "data": {
            "image/png": "[encoded data removed]",
            "text/plain": [
              "<Figure size 640x480 with 1 Axes>"
            ]
          },
          "metadata": {},
          "output_type": "display_data"
        }
      ],
      "source": [
        "# Plot Precision-Recall Curve\n",
        "plt.plot(recall, precision, marker='.')\n",
        "plt.xlabel('Recall')\n",
        "plt.ylabel('Precision')\n",
        "plt.title('Precision-Recall Curve')\n",
        "plt.show()"
      ]
    },
    {
      "cell_type": "code",
      "execution_count": null,
      "metadata": {},
      "outputs": [],
      "source": []
    },
    {
      "cell_type": "code",
      "execution_count": null,
      "metadata": {},
      "outputs": [],
      "source": []
    },
    {
      "cell_type": "code",
      "execution_count": null,
      "metadata": {},
      "outputs": [],
      "source": []
    },
    {
      "cell_type": "code",
      "execution_count": null,
      "metadata": {},
      "outputs": [],
      "source": []
    },
    {
      "cell_type": "code",
      "execution_count": 21,
      "metadata": {},
      "outputs": [],
      "source": [
        "from sklearn.linear_model import LogisticRegression\n",
        "logreg=LogisticRegression()\n",
        "logreg.fit(x_train,y_train)\n",
        "y_pred_l=logreg.predict(x_test)"
      ]
    },
    {
      "cell_type": "code",
      "execution_count": 22,
      "metadata": {},
      "outputs": [],
      "source": [
        "a=classification_report(y_test, y_pred_l)"
      ]
    },
    {
      "cell_type": "code",
      "execution_count": 23,
      "metadata": {},
      "outputs": [
        {
          "name": "stdout",
          "output_type": "stream",
          "text": [
            "              precision    recall  f1-score   support\n",
            "\n",
            "           0       0.71      0.65      0.68      5332\n",
            "          10       0.65      0.71      0.68      4799\n",
            "\n",
            "    accuracy                           0.68     10131\n",
            "   macro avg       0.68      0.68      0.68     10131\n",
            "weighted avg       0.68      0.68      0.68     10131\n",
            "\n"
          ]
        }
      ],
      "source": [
        "print(a)"
      ]
    },
    {
      "cell_type": "code",
      "execution_count": 24,
      "metadata": {},
      "outputs": [
        {
          "data": {
            "text/plain": [
              "{'C': 1.0,\n",
              " 'class_weight': None,\n",
              " 'dual': False,\n",
              " 'fit_intercept': True,\n",
              " 'intercept_scaling': 1,\n",
              " 'l1_ratio': None,\n",
              " 'max_iter': 100,\n",
              " 'multi_class': 'auto',\n",
              " 'n_jobs': None,\n",
              " 'penalty': 'l2',\n",
              " 'random_state': None,\n",
              " 'solver': 'lbfgs',\n",
              " 'tol': 0.0001,\n",
              " 'verbose': 0,\n",
              " 'warm_start': False}"
            ]
          },
          "execution_count": 24,
          "metadata": {},
          "output_type": "execute_result"
        }
      ],
      "source": [
        "logreg.get_params()"
      ]
    },
    {
      "cell_type": "code",
      "execution_count": 25,
      "metadata": {},
      "outputs": [
        {
          "data": {
            "text/plain": [
              "array([10,  0, 10, ...,  0, 10,  0], dtype=int64)"
            ]
          },
          "execution_count": 25,
          "metadata": {},
          "output_type": "execute_result"
        }
      ],
      "source": [
        "y_pred_l"
      ]
    },
    {
      "cell_type": "code",
      "execution_count": 26,
      "metadata": {},
      "outputs": [],
      "source": [
        "accuracy = accuracy_score(y_test, y_pred_l)\n",
        "# precision = precision_score(y_test, y_pred_kn)\n",
        "precision = precision_score(y_test, y_pred_l, pos_label=10)\n",
        "recall = recall_score(y_test, y_pred_l, pos_label=10)\n",
        "f1 = f1_score(y_test, y_pred_l, pos_label=10)\n",
        "conf_matrix = confusion_matrix(y_test, y_pred_l)\n",
        "roc_score = roc_auc_score(y_test, y_pred_l)\n",
        "precision, recall, _ = precision_recall_curve(y_test, y_pred_l, pos_label=10)"
      ]
    },
    {
      "cell_type": "code",
      "execution_count": 27,
      "metadata": {},
      "outputs": [
        {
          "name": "stdout",
          "output_type": "stream",
          "text": [
            "Accuracy: 0.6796959826275787\n",
            "Precision: [0.4736946  0.64839572 1.        ]\n",
            "Recall: [1.         0.70743905 0.        ]\n",
            "F1 Score: 0.6766317887394121\n",
            "Confusion Matrix:\n",
            " [[3491 1841]\n",
            " [1404 3395]]\n",
            "ROC Score: 0.6810826156737142\n"
          ]
        }
      ],
      "source": [
        "print(\"Accuracy:\", accuracy)\n",
        "print(\"Precision:\", precision)\n",
        "print(\"Recall:\", recall)\n",
        "print(\"F1 Score:\", f1)\n",
        "print(\"Confusion Matrix:\\n\", conf_matrix)\n",
        "print(\"ROC Score:\", roc_score)"
      ]
    },
    {
      "cell_type": "code",
      "execution_count": 28,
      "metadata": {},
      "outputs": [
        {
          "data": {
            "image/png": "[encoded data removed]",
            "text/plain": [
              "<Figure size 640x480 with 1 Axes>"
            ]
          },
          "metadata": {},
          "output_type": "display_data"
        }
      ],
      "source": [
        "# Plot Precision-Recall Curve\n",
        "plt.plot(recall, precision, marker='.')\n",
        "plt.xlabel('Recall')\n",
        "plt.ylabel('Precision')\n",
        "plt.title('Precision-Recall Curve')\n",
        "plt.show()"
      ]
    },
    {
      "cell_type": "code",
      "execution_count": null,
      "metadata": {},
      "outputs": [],
      "source": []
    },
    {
      "cell_type": "code",
      "execution_count": null,
      "metadata": {},
      "outputs": [],
      "source": []
    },
    {
      "cell_type": "code",
      "execution_count": 29,
      "metadata": {},
      "outputs": [
        {
          "data": {
            "text/plain": [
              "0.6796959826275787"
            ]
          },
          "execution_count": 29,
          "metadata": {},
          "output_type": "execute_result"
        }
      ],
      "source": [
        "from sklearn.metrics import accuracy_score\n",
        "accuracy_score(y_test,y_pred_l)"
      ]
    },
    {
      "cell_type": "code",
      "execution_count": null,
      "metadata": {},
      "outputs": [],
      "source": []
    },
    {
      "cell_type": "code",
      "execution_count": 30,
      "metadata": {},
      "outputs": [],
      "source": [
        "from sklearn.neighbors import KNeighborsClassifier\n",
        "knn=KNeighborsClassifier(n_neighbors=5)\n",
        "knn.fit(x_train,y_train)\n",
        "y_pred_kn=knn.predict(x_test)"
      ]
    },
    {
      "cell_type": "code",
      "execution_count": 31,
      "metadata": {},
      "outputs": [
        {
          "data": {
            "text/plain": [
              "array([10, 10, 10, ...,  0,  0, 10], dtype=int64)"
            ]
          },
          "execution_count": 31,
          "metadata": {},
          "output_type": "execute_result"
        }
      ],
      "source": [
        "y_pred_kn"
      ]
    },
    {
      "cell_type": "code",
      "execution_count": 32,
      "metadata": {},
      "outputs": [],
      "source": [
        "a=classification_report(y_test, y_pred_kn)"
      ]
    },
    {
      "cell_type": "code",
      "execution_count": 33,
      "metadata": {},
      "outputs": [
        {
          "name": "stdout",
          "output_type": "stream",
          "text": [
            "              precision    recall  f1-score   support\n",
            "\n",
            "           0       0.99      0.99      0.99      5332\n",
            "          10       0.99      0.99      0.99      4799\n",
            "\n",
            "    accuracy                           0.99     10131\n",
            "   macro avg       0.99      0.99      0.99     10131\n",
            "weighted avg       0.99      0.99      0.99     10131\n",
            "\n"
          ]
        }
      ],
      "source": [
        "print(a)"
      ]
    },
    {
      "cell_type": "code",
      "execution_count": 34,
      "metadata": {},
      "outputs": [
        {
          "name": "stdout",
          "output_type": "stream",
          "text": [
            "Summary of Predictions:\n",
            "        Predictions\n",
            "count  10131.000000\n",
            "mean       4.718192\n",
            "std        4.992298\n",
            "min        0.000000\n",
            "25%        0.000000\n",
            "50%        0.000000\n",
            "75%       10.000000\n",
            "max       10.000000\n"
          ]
        }
      ],
      "source": [
        "import pandas as pd\n",
        "\n",
        "# Assuming y_pred_kn contains your predictions\n",
        "\n",
        "# Convert predictions to a pandas DataFrame\n",
        "predictions_df = pd.DataFrame(y_pred_kn, columns=['Predictions'])\n",
        "\n",
        "# Get summary statistics\n",
        "summary = predictions_df.describe()\n",
        "\n",
        "# Print the summary\n",
        "print(\"Summary of Predictions:\")\n",
        "print(summary)\n"
      ]
    },
    {
      "cell_type": "code",
      "execution_count": 35,
      "metadata": {},
      "outputs": [
        {
          "data": {
            "text/plain": [
              "0.9906228407857073"
            ]
          },
          "execution_count": 35,
          "metadata": {},
          "output_type": "execute_result"
        }
      ],
      "source": [
        "from sklearn.metrics import accuracy_score\n",
        "accuracy_score(y_test,y_pred_kn)"
      ]
    },
    {
      "cell_type": "code",
      "execution_count": 36,
      "metadata": {},
      "outputs": [
        {
          "data": {
            "text/plain": [
              "array([[  40.20058, -116.2    ,   28.     ],\n",
              "       [  42.6139 , -103.85   ,   33.     ],\n",
              "       [  44.8035 ,  -13.7    ,   28.     ],\n",
              "       ...,\n",
              "       [  42.7924 ,  -17.29   ,   27.     ],\n",
              "       [  43.42667,  -77.59   ,   34.     ],\n",
              "       [  44.23468,  -40.59   ,   31.     ]])"
            ]
          },
          "execution_count": 36,
          "metadata": {},
          "output_type": "execute_result"
        }
      ],
      "source": [
        "x_train"
      ]
    },
    {
      "cell_type": "code",
      "execution_count": 37,
      "metadata": {},
      "outputs": [
        {
          "data": {
            "text/plain": [
              "array([10], dtype=int64)"
            ]
          },
          "execution_count": 37,
          "metadata": {},
          "output_type": "execute_result"
        }
      ],
      "source": [
        "knn.predict([[40.5909,-114.99,36.0]])"
      ]
    },
    {
      "cell_type": "code",
      "execution_count": 38,
      "metadata": {},
      "outputs": [],
      "source": [
        "from sklearn.metrics import accuracy_score, precision_score, recall_score, f1_score, confusion_matrix, roc_auc_score, precision_recall_curve\n",
        "import matplotlib.pyplot as plt"
      ]
    },
    {
      "cell_type": "code",
      "execution_count": 39,
      "metadata": {},
      "outputs": [],
      "source": [
        "accuracy = accuracy_score(y_test, y_pred_kn)\n",
        "# precision = precision_score(y_test, y_pred_kn)\n",
        "precision = precision_score(y_test, y_pred_kn, pos_label=10)\n",
        "recall = recall_score(y_test, y_pred_kn, pos_label=10)\n",
        "f1 = f1_score(y_test, y_pred_kn, pos_label=10)\n",
        "conf_matrix = confusion_matrix(y_test, y_pred_kn)\n",
        "roc_score = roc_auc_score(y_test, y_pred_kn)\n",
        "precision, recall, _ = precision_recall_curve(y_test, y_pred_kn, pos_label=10)"
      ]
    },
    {
      "cell_type": "code",
      "execution_count": 40,
      "metadata": {},
      "outputs": [
        {
          "name": "stdout",
          "output_type": "stream",
          "text": [
            "Accuracy: 0.9906228407857073\n",
            "Precision: [0.4736946  0.99205021 1.        ]\n",
            "Recall: [1.         0.98812253 0.        ]\n",
            "F1 Score: 0.9900824720743292\n",
            "Confusion Matrix:\n",
            " [[5294   38]\n",
            " [  57 4742]]\n",
            "ROC Score: 0.9904978719153636\n"
          ]
        }
      ],
      "source": [
        "print(\"Accuracy:\", accuracy)\n",
        "print(\"Precision:\", precision)\n",
        "print(\"Recall:\", recall)\n",
        "print(\"F1 Score:\", f1)\n",
        "print(\"Confusion Matrix:\\n\", conf_matrix)\n",
        "print(\"ROC Score:\", roc_score)"
      ]
    },
    {
      "cell_type": "code",
      "execution_count": 41,
      "metadata": {},
      "outputs": [
        {
          "data": {
            "image/png": "[encoded data removed]",
            "text/plain": [
              "<Figure size 640x480 with 1 Axes>"
            ]
          },
          "metadata": {},
          "output_type": "display_data"
        }
      ],
      "source": [
        "# Plot Precision-Recall Curve\n",
        "plt.plot(recall, precision, marker='.')\n",
        "plt.xlabel('Recall')\n",
        "plt.ylabel('Precision')\n",
        "plt.title('Precision-Recall Curve')\n",
        "plt.show()\n",
        "\n"
      ]
    },
    {
      "cell_type": "code",
      "execution_count": 42,
      "metadata": {},
      "outputs": [],
      "source": [
        "import pandas as pd\n",
        "import seaborn as sns\n",
        "import matplotlib.pyplot as plt\n",
        "\n",
        "\n",
        "X_df = pd.DataFrame(x)\n",
        "y_df = pd.DataFrame(y, columns=['label'])\n",
        "\n",
        "\n",
        "data = pd.concat([X_df.iloc[:, 0], X_df.iloc[:, 1], X_df.iloc[:, 2], y_df], axis=1)\n",
        "data.columns = ['volt', 'current', 'temperature', 'label']\n",
        "\n"
      ]
    },
    {
      "cell_type": "code",
      "execution_count": 43,
      "metadata": {},
      "outputs": [
        {
          "data": {
            "text/html": [
              "<div>\n",
              "<style scoped>\n",
              "    .dataframe tbody tr th:only-of-type {\n",
              "        vertical-align: middle;\n",
              "    }\n",
              "\n",
              "    .dataframe tbody tr th {\n",
              "        vertical-align: top;\n",
              "    }\n",
              "\n",
              "    .dataframe thead th {\n",
              "        text-align: right;\n",
              "    }\n",
              "</style>\n",
              "<table border=\"1\" class=\"dataframe\">\n",
              "  <thead>\n",
              "    <tr style=\"text-align: right;\">\n",
              "      <th></th>\n",
              "      <th>0</th>\n",
              "      <th>1</th>\n",
              "      <th>2</th>\n",
              "    </tr>\n",
              "  </thead>\n",
              "  <tbody>\n",
              "    <tr>\n",
              "      <th>0</th>\n",
              "      <td>38.91657</td>\n",
              "      <td>-8.07</td>\n",
              "      <td>28.0</td>\n",
              "    </tr>\n",
              "    <tr>\n",
              "      <th>1</th>\n",
              "      <td>38.95108</td>\n",
              "      <td>-14.96</td>\n",
              "      <td>28.0</td>\n",
              "    </tr>\n",
              "    <tr>\n",
              "      <th>2</th>\n",
              "      <td>38.97250</td>\n",
              "      <td>-14.64</td>\n",
              "      <td>27.9</td>\n",
              "    </tr>\n",
              "    <tr>\n",
              "      <th>3</th>\n",
              "      <td>38.97250</td>\n",
              "      <td>-14.99</td>\n",
              "      <td>27.0</td>\n",
              "    </tr>\n",
              "    <tr>\n",
              "      <th>4</th>\n",
              "      <td>38.97607</td>\n",
              "      <td>-14.90</td>\n",
              "      <td>27.0</td>\n",
              "    </tr>\n",
              "    <tr>\n",
              "      <th>...</th>\n",
              "      <td>...</td>\n",
              "      <td>...</td>\n",
              "      <td>...</td>\n",
              "    </tr>\n",
              "    <tr>\n",
              "      <th>33762</th>\n",
              "      <td>41.99510</td>\n",
              "      <td>-17.60</td>\n",
              "      <td>27.0</td>\n",
              "    </tr>\n",
              "    <tr>\n",
              "      <th>33763</th>\n",
              "      <td>41.99510</td>\n",
              "      <td>-17.60</td>\n",
              "      <td>27.0</td>\n",
              "    </tr>\n",
              "    <tr>\n",
              "      <th>33764</th>\n",
              "      <td>41.99510</td>\n",
              "      <td>-17.59</td>\n",
              "      <td>27.0</td>\n",
              "    </tr>\n",
              "    <tr>\n",
              "      <th>33765</th>\n",
              "      <td>41.99510</td>\n",
              "      <td>-17.51</td>\n",
              "      <td>27.0</td>\n",
              "    </tr>\n",
              "    <tr>\n",
              "      <th>33766</th>\n",
              "      <td>41.99748</td>\n",
              "      <td>-17.60</td>\n",
              "      <td>27.0</td>\n",
              "    </tr>\n",
              "  </tbody>\n",
              "</table>\n",
              "<p>33767 rows × 3 columns</p>\n",
              "</div>"
            ],
            "text/plain": [
              "              0      1     2\n",
              "0      38.91657  -8.07  28.0\n",
              "1      38.95108 -14.96  28.0\n",
              "2      38.97250 -14.64  27.9\n",
              "3      38.97250 -14.99  27.0\n",
              "4      38.97607 -14.90  27.0\n",
              "...         ...    ...   ...\n",
              "33762  41.99510 -17.60  27.0\n",
              "33763  41.99510 -17.60  27.0\n",
              "33764  41.99510 -17.59  27.0\n",
              "33765  41.99510 -17.51  27.0\n",
              "33766  41.99748 -17.60  27.0\n",
              "\n",
              "[33767 rows x 3 columns]"
            ]
          },
          "execution_count": 43,
          "metadata": {},
          "output_type": "execute_result"
        }
      ],
      "source": [
        "X_df"
      ]
    },
    {
      "cell_type": "code",
      "execution_count": 44,
      "metadata": {},
      "outputs": [
        {
          "data": {
            "text/html": [
              "<div>\n",
              "<style scoped>\n",
              "    .dataframe tbody tr th:only-of-type {\n",
              "        vertical-align: middle;\n",
              "    }\n",
              "\n",
              "    .dataframe tbody tr th {\n",
              "        vertical-align: top;\n",
              "    }\n",
              "\n",
              "    .dataframe thead th {\n",
              "        text-align: right;\n",
              "    }\n",
              "</style>\n",
              "<table border=\"1\" class=\"dataframe\">\n",
              "  <thead>\n",
              "    <tr style=\"text-align: right;\">\n",
              "      <th></th>\n",
              "      <th>label</th>\n",
              "    </tr>\n",
              "  </thead>\n",
              "  <tbody>\n",
              "    <tr>\n",
              "      <th>0</th>\n",
              "      <td>0</td>\n",
              "    </tr>\n",
              "    <tr>\n",
              "      <th>1</th>\n",
              "      <td>0</td>\n",
              "    </tr>\n",
              "    <tr>\n",
              "      <th>2</th>\n",
              "      <td>0</td>\n",
              "    </tr>\n",
              "    <tr>\n",
              "      <th>3</th>\n",
              "      <td>0</td>\n",
              "    </tr>\n",
              "    <tr>\n",
              "      <th>4</th>\n",
              "      <td>0</td>\n",
              "    </tr>\n",
              "    <tr>\n",
              "      <th>...</th>\n",
              "      <td>...</td>\n",
              "    </tr>\n",
              "    <tr>\n",
              "      <th>33762</th>\n",
              "      <td>0</td>\n",
              "    </tr>\n",
              "    <tr>\n",
              "      <th>33763</th>\n",
              "      <td>0</td>\n",
              "    </tr>\n",
              "    <tr>\n",
              "      <th>33764</th>\n",
              "      <td>0</td>\n",
              "    </tr>\n",
              "    <tr>\n",
              "      <th>33765</th>\n",
              "      <td>0</td>\n",
              "    </tr>\n",
              "    <tr>\n",
              "      <th>33766</th>\n",
              "      <td>0</td>\n",
              "    </tr>\n",
              "  </tbody>\n",
              "</table>\n",
              "<p>33767 rows × 1 columns</p>\n",
              "</div>"
            ],
            "text/plain": [
              "       label\n",
              "0          0\n",
              "1          0\n",
              "2          0\n",
              "3          0\n",
              "4          0\n",
              "...      ...\n",
              "33762      0\n",
              "33763      0\n",
              "33764      0\n",
              "33765      0\n",
              "33766      0\n",
              "\n",
              "[33767 rows x 1 columns]"
            ]
          },
          "execution_count": 44,
          "metadata": {},
          "output_type": "execute_result"
        }
      ],
      "source": [
        "y_df"
      ]
    },
    {
      "cell_type": "code",
      "execution_count": 45,
      "metadata": {},
      "outputs": [
        {
          "data": {
            "text/html": [
              "<div>\n",
              "<style scoped>\n",
              "    .dataframe tbody tr th:only-of-type {\n",
              "        vertical-align: middle;\n",
              "    }\n",
              "\n",
              "    .dataframe tbody tr th {\n",
              "        vertical-align: top;\n",
              "    }\n",
              "\n",
              "    .dataframe thead th {\n",
              "        text-align: right;\n",
              "    }\n",
              "</style>\n",
              "<table border=\"1\" class=\"dataframe\">\n",
              "  <thead>\n",
              "    <tr style=\"text-align: right;\">\n",
              "      <th></th>\n",
              "      <th>volt</th>\n",
              "      <th>current</th>\n",
              "      <th>temperature</th>\n",
              "      <th>label</th>\n",
              "    </tr>\n",
              "  </thead>\n",
              "  <tbody>\n",
              "    <tr>\n",
              "      <th>0</th>\n",
              "      <td>38.91657</td>\n",
              "      <td>-8.07</td>\n",
              "      <td>28.0</td>\n",
              "      <td>0</td>\n",
              "    </tr>\n",
              "    <tr>\n",
              "      <th>1</th>\n",
              "      <td>38.95108</td>\n",
              "      <td>-14.96</td>\n",
              "      <td>28.0</td>\n",
              "      <td>0</td>\n",
              "    </tr>\n",
              "    <tr>\n",
              "      <th>2</th>\n",
              "      <td>38.97250</td>\n",
              "      <td>-14.64</td>\n",
              "      <td>27.9</td>\n",
              "      <td>0</td>\n",
              "    </tr>\n",
              "    <tr>\n",
              "      <th>3</th>\n",
              "      <td>38.97250</td>\n",
              "      <td>-14.99</td>\n",
              "      <td>27.0</td>\n",
              "      <td>0</td>\n",
              "    </tr>\n",
              "    <tr>\n",
              "      <th>4</th>\n",
              "      <td>38.97607</td>\n",
              "      <td>-14.90</td>\n",
              "      <td>27.0</td>\n",
              "      <td>0</td>\n",
              "    </tr>\n",
              "    <tr>\n",
              "      <th>...</th>\n",
              "      <td>...</td>\n",
              "      <td>...</td>\n",
              "      <td>...</td>\n",
              "      <td>...</td>\n",
              "    </tr>\n",
              "    <tr>\n",
              "      <th>33762</th>\n",
              "      <td>41.99510</td>\n",
              "      <td>-17.60</td>\n",
              "      <td>27.0</td>\n",
              "      <td>0</td>\n",
              "    </tr>\n",
              "    <tr>\n",
              "      <th>33763</th>\n",
              "      <td>41.99510</td>\n",
              "      <td>-17.60</td>\n",
              "      <td>27.0</td>\n",
              "      <td>0</td>\n",
              "    </tr>\n",
              "    <tr>\n",
              "      <th>33764</th>\n",
              "      <td>41.99510</td>\n",
              "      <td>-17.59</td>\n",
              "      <td>27.0</td>\n",
              "      <td>0</td>\n",
              "    </tr>\n",
              "    <tr>\n",
              "      <th>33765</th>\n",
              "      <td>41.99510</td>\n",
              "      <td>-17.51</td>\n",
              "      <td>27.0</td>\n",
              "      <td>0</td>\n",
              "    </tr>\n",
              "    <tr>\n",
              "      <th>33766</th>\n",
              "      <td>41.99748</td>\n",
              "      <td>-17.60</td>\n",
              "      <td>27.0</td>\n",
              "      <td>0</td>\n",
              "    </tr>\n",
              "  </tbody>\n",
              "</table>\n",
              "<p>33767 rows × 4 columns</p>\n",
              "</div>"
            ],
            "text/plain": [
              "           volt  current  temperature  label\n",
              "0      38.91657    -8.07         28.0      0\n",
              "1      38.95108   -14.96         28.0      0\n",
              "2      38.97250   -14.64         27.9      0\n",
              "3      38.97250   -14.99         27.0      0\n",
              "4      38.97607   -14.90         27.0      0\n",
              "...         ...      ...          ...    ...\n",
              "33762  41.99510   -17.60         27.0      0\n",
              "33763  41.99510   -17.60         27.0      0\n",
              "33764  41.99510   -17.59         27.0      0\n",
              "33765  41.99510   -17.51         27.0      0\n",
              "33766  41.99748   -17.60         27.0      0\n",
              "\n",
              "[33767 rows x 4 columns]"
            ]
          },
          "execution_count": 45,
          "metadata": {},
          "output_type": "execute_result"
        }
      ],
      "source": [
        "data"
      ]
    },
    {
      "cell_type": "code",
      "execution_count": 46,
      "metadata": {},
      "outputs": [
        {
          "data": {
            "image/png": "[encoded data removed]",
            "text/plain": [
              "<Figure size 800x600 with 1 Axes>"
            ]
          },
          "metadata": {},
          "output_type": "display_data"
        },
        {
          "data": {
            "image/png": "[encoded data removed]",
            "text/plain": [
              "<Figure size 800x600 with 1 Axes>"
            ]
          },
          "metadata": {},
          "output_type": "display_data"
        }
      ],
      "source": [
        "# Scatter Plot for Volt vs Label\n",
        "plt.figure(figsize=(8, 6))\n",
        "sns.scatterplot(x='volt', y='label', data=data)\n",
        "plt.xlabel('Volt')\n",
        "plt.ylabel('Label')\n",
        "plt.title('Scatter Plot of Volt vs Label')\n",
        "plt.show()\n",
        "\n",
        "# Box Plot for Volt by Label\n",
        "plt.figure(figsize=(8, 6))\n",
        "sns.boxplot(x='label', y='volt', data=data)\n",
        "plt.xlabel('Label')\n",
        "plt.ylabel('Volt')\n",
        "plt.title('Box Plot of Volt by Label')\n",
        "plt.show()"
      ]
    },
    {
      "cell_type": "code",
      "execution_count": 47,
      "metadata": {},
      "outputs": [
        {
          "data": {
            "image/png": "[encoded data removed]",
            "text/plain": [
              "<Figure size 400x300 with 1 Axes>"
            ]
          },
          "metadata": {},
          "output_type": "display_data"
        }
      ],
      "source": [
        "# Scatter Plot for Temperature vs Label\n",
        "plt.figure(figsize=(4, 3))\n",
        "sns.scatterplot(x='temperature', y='label', data=data)\n",
        "plt.xlabel('Temperature')\n",
        "plt.ylabel('Label')\n",
        "plt.title('Scatter Plot of Temperature vs Label')\n",
        "plt.show()"
      ]
    },
    {
      "cell_type": "code",
      "execution_count": 48,
      "metadata": {},
      "outputs": [
        {
          "data": {
            "image/png": "[encoded data removed]",
            "text/plain": [
              "<Figure size 400x300 with 1 Axes>"
            ]
          },
          "metadata": {},
          "output_type": "display_data"
        }
      ],
      "source": [
        "# Histogram\n",
        "plt.figure(figsize=(4, 3))\n",
        "sns.histplot(data=data, x='temperature', hue='label', kde=False, bins=20)\n",
        "plt.xlabel('Temperature')\n",
        "plt.ylabel('Frequency')\n",
        "plt.title('Histogram of Temperature by Label')\n",
        "plt.show()"
      ]
    },
    {
      "cell_type": "code",
      "execution_count": 49,
      "metadata": {},
      "outputs": [
        {
          "data": {
            "image/png": "[encoded data removed]",
            "text/plain": [
              "<Figure size 400x300 with 1 Axes>"
            ]
          },
          "metadata": {},
          "output_type": "display_data"
        }
      ],
      "source": [
        "# Histogram\n",
        "plt.figure(figsize=(4, 3))\n",
        "sns.histplot(data=data, x='volt', hue='label', kde=False, bins=20)\n",
        "plt.xlabel('Volt')\n",
        "plt.ylabel('Frequency')\n",
        "plt.title('Histogram of Volt by Label')\n",
        "plt.show()"
      ]
    },
    {
      "cell_type": "code",
      "execution_count": null,
      "metadata": {},
      "outputs": [],
      "source": []
    },
    {
      "cell_type": "code",
      "execution_count": null,
      "metadata": {},
      "outputs": [],
      "source": []
    },
    {
      "cell_type": "code",
      "execution_count": null,
      "metadata": {},
      "outputs": [],
      "source": []
    },
    {
      "cell_type": "markdown",
      "metadata": {
        "id": "8PMtTyh1L21i"
      },
      "source": [
        "# pickle"
      ]
    },
    {
      "cell_type": "code",
      "execution_count": 50,
      "metadata": {
        "id": "m5TbgpslF-PQ"
      },
      "outputs": [],
      "source": [
        "import pickle\n",
        "pickle.dump(y_pred_kn,open('model.pkl','wb'))"
      ]
    },
    {
      "cell_type": "code",
      "execution_count": 51,
      "metadata": {},
      "outputs": [],
      "source": [
        "# pip freeze > requirements.txt"
      ]
    },
    {
      "cell_type": "code",
      "execution_count": 52,
      "metadata": {},
      "outputs": [
        {
          "data": {
            "text/html": [
              "<details>\n",
              "<summary>Click to view session information</summary>\n",
              "<pre>\n",
              "-----\n",
              "matplotlib          3.8.1\n",
              "numpy               1.26.1\n",
              "pandas              2.1.2\n",
              "seaborn             0.11.1\n",
              "session_info        1.0.0\n",
              "sklearn             1.3.2\n",
              "-----\n",
              "</pre>\n",
              "<details>\n",
              "<summary>Click to view modules imported as dependencies</summary>\n",
              "<pre>\n",
              "PIL                 10.0.1\n",
              "asttokens           NA\n",
              "cffi                1.16.0\n",
              "colorama            0.4.6\n",
              "comm                0.1.4\n",
              "cycler              0.12.1\n",
              "cython_runtime      NA\n",
              "dateutil            2.8.2\n",
              "debugpy             1.8.0\n",
              "decorator           5.1.1\n",
              "executing           2.0.1\n",
              "google              NA\n",
              "ipykernel           6.26.0\n",
              "jedi                0.19.1\n",
              "joblib              1.3.2\n",
              "kiwisolver          1.4.5\n",
              "matplotlib_inline   0.1.6\n",
              "mpl_toolkits        NA\n",
              "packaging           23.2\n",
              "parso               0.8.3\n",
              "patsy               0.5.6\n",
              "pkg_resources       NA\n",
              "platformdirs        3.11.0\n",
              "prompt_toolkit      3.0.39\n",
              "psutil              5.9.6\n",
              "pure_eval           0.2.2\n",
              "pydev_ipython       NA\n",
              "pydevconsole        NA\n",
              "pydevd              2.9.5\n",
              "pydevd_file_utils   NA\n",
              "pydevd_plugins      NA\n",
              "pydevd_tracing      NA\n",
              "pygments            2.16.1\n",
              "pyparsing           3.1.1\n",
              "pythoncom           NA\n",
              "pytz                2023.3.post1\n",
              "pywin32_bootstrap   NA\n",
              "pywin32_system32    NA\n",
              "pywintypes          NA\n",
              "scipy               1.11.3\n",
              "setuptools          65.5.0\n",
              "six                 1.16.0\n",
              "stack_data          0.6.3\n",
              "statsmodels         0.14.1\n",
              "threadpoolctl       3.2.0\n",
              "tornado             6.3.3\n",
              "traitlets           5.13.0\n",
              "typing_extensions   NA\n",
              "vscode              NA\n",
              "wcwidth             0.2.9\n",
              "win32api            NA\n",
              "win32com            NA\n",
              "zmq                 25.1.1\n",
              "zope                NA\n",
              "</pre>\n",
              "</details> <!-- seems like this ends pre, so might as well be explicit -->\n",
              "<pre>\n",
              "-----\n",
              "IPython             8.17.2\n",
              "jupyter_client      8.5.0\n",
              "jupyter_core        5.5.0\n",
              "-----\n",
              "Python 3.11.9 (tags/v3.11.9:de54cf5, Apr  2 2024, 10:12:12) [MSC v.1938 64 bit (AMD64)]\n",
              "Windows-10-10.0.22631-SP0\n",
              "-----\n",
              "Session information updated at 2024-07-28 10:51\n",
              "</pre>\n",
              "</details>"
            ],
            "text/plain": [
              "<IPython.core.display.HTML object>"
            ]
          },
          "execution_count": 52,
          "metadata": {},
          "output_type": "execute_result"
        }
      ],
      "source": [
        "import session_info\n",
        "session_info.show()"
      ]
    }
  ],
  "metadata": {
    "colab": {
      "collapsed_sections": [],
      "name": "product1.ipynb",
      "provenance": []
    },
    "kernelspec": {
      "display_name": "Python 3.9.12 ('base')",
      "language": "python",
      "name": "python3"
    },
    "language_info": {
      "codemirror_mode": {
        "name": "ipython",
        "version": 3
      },
      "file_extension": ".py",
      "mimetype": "text/x-python",
      "name": "python",
      "nbconvert_exporter": "python",
      "pygments_lexer": "ipython3",
      "version": "3.11.9"
    },
    "vscode": {
      "interpreter": {
        "hash": "b675168525ba0a932ead71e7b882d73c655b942e699b01c95318e9e6721acfe6"
      }
    }
  },
  "nbformat": 4,
  "nbformat_minor": 0
}
